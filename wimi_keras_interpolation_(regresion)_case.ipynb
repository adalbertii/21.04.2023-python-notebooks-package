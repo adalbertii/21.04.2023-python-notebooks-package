{
  "nbformat": 4,
  "nbformat_minor": 0,
  "metadata": {
    "colab": {
      "provenance": [],
      "authorship_tag": "ABX9TyN2xz6BsBZrUaNCs8Xhxh6z",
      "include_colab_link": true
    },
    "kernelspec": {
      "name": "python3",
      "display_name": "Python 3"
    },
    "language_info": {
      "name": "python"
    }
  },
  "cells": [
    {
      "cell_type": "markdown",
      "metadata": {
        "id": "view-in-github",
        "colab_type": "text"
      },
      "source": [
        "<a href=\"https://colab.research.google.com/github/adalbertii/phyton-binder/blob/main/wimi_keras_interpolation_(regresion)_case.ipynb\" target=\"_parent\"><img src=\"https://colab.research.google.com/assets/colab-badge.svg\" alt=\"Open In Colab\"/></a>"
      ]
    },
    {
      "cell_type": "markdown",
      "source": [
        "\n",
        "**Educational Friday: 21.04.2023**\n",
        "\n",
        "---\n",
        "Developed by Wojciech Michalski\n",
        "\n",
        "---\n",
        "\n",
        "\n",
        "\n",
        "# Construction of neural networks - regresion model\n",
        "\n",
        "\n",
        "\n",
        "\n",
        "\n",
        "Using the Keras library\n"
      ],
      "metadata": {
        "id": "i5qLXvRKVsuB"
      }
    },
    {
      "cell_type": "markdown",
      "source": [
        "Step 1 - Loading the Required Libraries and Modules"
      ],
      "metadata": {
        "id": "oCCTGqMJV7LY"
      }
    },
    {
      "cell_type": "code",
      "execution_count": null,
      "metadata": {
        "id": "z6mialYN6ww4"
      },
      "outputs": [],
      "source": [
        "import numpy as np\n",
        "import matplotlib.pyplot as plt\n",
        "from keras.models import Sequential\n",
        "from keras.layers import Dense"
      ]
    },
    {
      "cell_type": "markdown",
      "source": [
        "Step 2 - Preparing the Data and Performing Basic Data Check"
      ],
      "metadata": {
        "id": "NyF5EqQcWAoj"
      }
    },
    {
      "cell_type": "code",
      "source": [
        "x = np.array([0, 1, 2, 3, 4, 5])\n",
        "y = np.array([0, 0.8, 0.9, 0.1, -0.8, -1])\n",
        "plt.plot(x, y, 'o')"
      ],
      "metadata": {
        "id": "2y5NW9SZD51G"
      },
      "execution_count": null,
      "outputs": []
    },
    {
      "cell_type": "markdown",
      "source": [
        "Step 3 - preparing neural network model"
      ],
      "metadata": {
        "id": "TJisd8F1WcRR"
      }
    },
    {
      "cell_type": "code",
      "source": [
        "model = Sequential()\n",
        "model.add(Dense(10, input_dim=1, activation='relu')) # pierwsza warstwa z 10 neuronami i funkcją aktywacji ReLU\n",
        "model.add(Dense(1, activation='linear')) # warstwa wyjściowa z jednym neuronem i funkcją aktywacji liniową"
      ],
      "metadata": {
        "id": "0xMIDnrHEC7S"
      },
      "execution_count": null,
      "outputs": []
    },
    {
      "cell_type": "code",
      "source": [
        "model.summary()"
      ],
      "metadata": {
        "id": "dhd2eWMiEj5Q"
      },
      "execution_count": null,
      "outputs": []
    },
    {
      "cell_type": "markdown",
      "source": [
        "Step 4 - model compile"
      ],
      "metadata": {
        "id": "PuiHfYsCWqeq"
      }
    },
    {
      "cell_type": "code",
      "source": [
        "# kompilacja modelu\n",
        "model.compile(loss='mse', optimizer='adam')"
      ],
      "metadata": {
        "id": "he0I0gGvD_iL"
      },
      "execution_count": null,
      "outputs": []
    },
    {
      "cell_type": "markdown",
      "source": [
        "Step 5 - model training"
      ],
      "metadata": {
        "id": "WD66nH4mW7jC"
      }
    },
    {
      "cell_type": "code",
      "source": [
        "history = model.fit(x, y, epochs=1000)"
      ],
      "metadata": {
        "id": "BM9ln66GEJgp"
      },
      "execution_count": null,
      "outputs": []
    },
    {
      "cell_type": "code",
      "source": [
        "import pandas as pd\n",
        "metrics = pd.DataFrame(model.history.history)\n",
        "metrics.head()\n",
        "metrics['loss'].plot()"
      ],
      "metadata": {
        "id": "jXSKCT6mE_uB"
      },
      "execution_count": null,
      "outputs": []
    },
    {
      "cell_type": "markdown",
      "source": [
        "Step 6 -  predyction with test data"
      ],
      "metadata": {
        "id": "FqqoL2ORXM-4"
      }
    },
    {
      "cell_type": "code",
      "source": [
        "x_new = np.linspace(0, 5, num=20) # nowe dane do interpolacji\n",
        "y_new = model.predict(x_new)"
      ],
      "metadata": {
        "id": "KTXkyNwRER5X"
      },
      "execution_count": null,
      "outputs": []
    },
    {
      "cell_type": "code",
      "source": [
        "plt.plot(x, y, 'o')\n",
        "plt.plot(x_new, y_new, '*')\n",
        "plt.show()"
      ],
      "metadata": {
        "id": "CQ0UZRsyEUh1"
      },
      "execution_count": null,
      "outputs": []
    }
  ]
}