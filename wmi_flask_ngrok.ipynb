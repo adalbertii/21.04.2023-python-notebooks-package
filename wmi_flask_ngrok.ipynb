{
  "nbformat": 4,
  "nbformat_minor": 0,
  "metadata": {
    "colab": {
      "provenance": [],
      "authorship_tag": "ABX9TyMzN+NCMua3Ogdq/SCjQBca",
      "include_colab_link": true
    },
    "kernelspec": {
      "name": "python3",
      "display_name": "Python 3"
    },
    "language_info": {
      "name": "python"
    }
  },
  "cells": [
    {
      "cell_type": "markdown",
      "metadata": {
        "id": "view-in-github",
        "colab_type": "text"
      },
      "source": [
        "<a href=\"https://colab.research.google.com/github/adalbertii/phyton-binder/blob/main/wmi_flask_ngrok.ipynb\" target=\"_parent\"><img src=\"https://colab.research.google.com/assets/colab-badge.svg\" alt=\"Open In Colab\"/></a>"
      ]
    },
    {
      "cell_type": "markdown",
      "source": [
        "\n",
        "\n",
        "\n",
        "**Educational Friday: 21.04.2023**\n",
        "\n",
        "\n",
        "---\n",
        "Developed by Wojciech Michalski\n",
        "\n",
        "\n",
        "---\n",
        "\n",
        "\n",
        "\n",
        "\n",
        "# Building web app with Flask framework and ngrok sharing\n",
        "\n",
        "https://dashboard.ngrok.com/get-started/your-authtoken\n",
        "\n",
        "[ Architecture diagram ] (https://github.com/adalbertii/phyton-binder/blob/main/PDF%20-%20Neural%20Network%20-%20Iris%20classification%20case%20software%20architecture.pdf)\n",
        "\n",
        "---\n",
        "\n"
      ],
      "metadata": {
        "id": "OiOX6FcH-99o"
      }
    },
    {
      "cell_type": "code",
      "execution_count": null,
      "metadata": {
        "id": "5CZ-jGfF-1rV"
      },
      "outputs": [],
      "source": [
        "!pip install flask-ngrok\n",
        "!pip install flask==0.12.2  # Newer versions of flask don't work in Colab\n",
        "                            # See https://github.com/plotly/dash/issues/257\n",
        "!pip install pyngrok\n",
        "\n",
        "#!!!! to do: copy token from ngrok.com\n",
        "!ngrok authtoken XXXXXXXXXXXXXXXXXXXXXXXXXXXXXXXX "
      ]
    },
    {
      "cell_type": "code",
      "source": [
        "# flask_ngrok_example.py\n",
        "from flask import Flask\n",
        "from flask_ngrok import run_with_ngrok\n",
        "\n",
        "app = Flask(__name__)\n",
        "run_with_ngrok(app)  # Start ngrok when app is run\n",
        "\n",
        "@app.route(\"/\")\n",
        "def hello():\n",
        "    return \"Hello wojciech!\"\n",
        "\n",
        "if __name__ == '__main__':\n",
        "    app.run()  # If address is in use, may need to terminate other sessions:\n",
        "               # Runtime > Manage Sessions > Terminate Other Sessions"
      ],
      "metadata": {
        "id": "LonlIm3b_Fya"
      },
      "execution_count": null,
      "outputs": []
    }
  ]
}