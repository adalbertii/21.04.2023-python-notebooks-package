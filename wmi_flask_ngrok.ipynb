{
  "nbformat": 4,
  "nbformat_minor": 0,
  "metadata": {
    "colab": {
      "provenance": [],
      "authorship_tag": "ABX9TyMZFV/8m+HkU0iy6z/6I8iD",
      "include_colab_link": true
    },
    "kernelspec": {
      "name": "python3",
      "display_name": "Python 3"
    },
    "language_info": {
      "name": "python"
    }
  },
  "cells": [
    {
      "cell_type": "markdown",
      "metadata": {
        "id": "view-in-github",
        "colab_type": "text"
      },
      "source": [
        "<a href=\"https://colab.research.google.com/github/adalbertii/21.04.2023-python-notebooks-package/blob/main/wmi_flask_ngrok.ipynb\" target=\"_parent\"><img src=\"https://colab.research.google.com/assets/colab-badge.svg\" alt=\"Open In Colab\"/></a>"
      ]
    },
    {
      "cell_type": "markdown",
      "source": [
        "\n",
        "\n",
        "\n",
        "**Educational Friday: 21.04.2023**\n",
        "\n",
        "\n",
        "---\n",
        "Developed by Wojciech Michalski\n",
        "\n",
        "\n",
        "---\n",
        "\n",
        "\n",
        "\n",
        "\n",
        "# Building web app with Flask framework and ngrok sharing\n",
        "\n",
        "https://dashboard.ngrok.com/get-started/your-authtoken\n",
        "\n",
        "[ Architecture diagram ] (https://github.com/adalbertii/phyton-binder/blob/main/PDF%20-%20Neural%20Network%20-%20Iris%20classification%20case%20software%20architecture.pdf)\n",
        "\n",
        "---\n",
        "\n"
      ],
      "metadata": {
        "id": "OiOX6FcH-99o"
      }
    },
    {
      "cell_type": "code",
      "execution_count": null,
      "metadata": {
        "id": "5CZ-jGfF-1rV"
      },
      "outputs": [],
      "source": [
        "!pip install flask-ngrok"
      ]
    },
    {
      "cell_type": "code",
      "source": [
        "from flask import Flask"
      ],
      "metadata": {
        "id": "AzTrUuVTcn8V"
      },
      "execution_count": 2,
      "outputs": []
    },
    {
      "cell_type": "code",
      "source": [
        "!pip install pyngrok\n",
        "!ngrok authtoken 2MB9vxmBMmzJQeV3dDnzUyCYLzz_6MsUqva9rW3DdaZcLhoc5"
      ],
      "metadata": {
        "id": "eqY6JKkacqbJ"
      },
      "execution_count": null,
      "outputs": []
    },
    {
      "cell_type": "code",
      "source": [
        "# flask_ngrok_example.py\n",
        "\n",
        "from flask_ngrok import run_with_ngrok\n",
        "\n",
        "app = Flask(__name__)\n",
        "run_with_ngrok(app)  # Start ngrok when app is run\n",
        "\n",
        "@app.route(\"/\")\n",
        "def hello():\n",
        "    return \"Hello wojciech!\"\n",
        "\n",
        "if __name__ == '__main__':\n",
        "    app.run()  # If address is in use, may need to terminate other sessions:\n",
        "               # Runtime > Manage Sessions > Terminate Other Sessions"
      ],
      "metadata": {
        "id": "LonlIm3b_Fya"
      },
      "execution_count": 5,
      "outputs": []
    }
  ]
}