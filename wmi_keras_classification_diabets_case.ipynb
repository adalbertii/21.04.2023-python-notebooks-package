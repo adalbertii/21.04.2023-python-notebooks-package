{
  "nbformat": 4,
  "nbformat_minor": 0,
  "metadata": {
    "colab": {
      "provenance": [],
      "authorship_tag": "ABX9TyPmttqERRb7G8ZrMczd7N9l",
      "include_colab_link": true
    },
    "kernelspec": {
      "name": "python3",
      "display_name": "Python 3"
    },
    "language_info": {
      "name": "python"
    }
  },
  "cells": [
    {
      "cell_type": "markdown",
      "metadata": {
        "id": "view-in-github",
        "colab_type": "text"
      },
      "source": [
        "<a href=\"https://colab.research.google.com/github/adalbertii/21.04.2023-python-notebooks-package/blob/main/wmi_keras_classification_diabets_case.ipynb\" target=\"_parent\"><img src=\"https://colab.research.google.com/assets/colab-badge.svg\" alt=\"Open In Colab\"/></a>"
      ]
    },
    {
      "cell_type": "markdown",
      "source": [
        "\n",
        "**Educational Friday: 21.04.2023**\n",
        "\n",
        "---\n",
        "Developed by Wojciech Michalski\n",
        "\n",
        "---\n",
        "\n",
        "\n",
        "\n",
        "# Construction of neural networks – classification model\n",
        "\n",
        "\n",
        "\n",
        "\n",
        "\n",
        "Using the Keras library\n"
      ],
      "metadata": {
        "id": "SBBSPYVFd81B"
      }
    },
    {
      "cell_type": "markdown",
      "source": [
        "Step 1 - Loading the Required Libraries and Modules"
      ],
      "metadata": {
        "id": "ZEYrkkJGeDwO"
      }
    },
    {
      "cell_type": "code",
      "execution_count": null,
      "metadata": {
        "id": "yp2b6Guj06sG"
      },
      "outputs": [],
      "source": [
        "import tensorflow as tf"
      ]
    },
    {
      "cell_type": "code",
      "source": [
        "from keras.models import Sequential\n",
        "from keras.layers import Dense\n",
        "import numpy as np"
      ],
      "metadata": {
        "id": "g1obGCnS51x-"
      },
      "execution_count": null,
      "outputs": []
    },
    {
      "cell_type": "markdown",
      "source": [
        "Step 2 - Preparing the Data and Performing Basic Data Check"
      ],
      "metadata": {
        "id": "8r2VxF7DeFtu"
      }
    },
    {
      "cell_type": "code",
      "source": [
        "#\"pima-indians-diabetes.csv\"\n",
        "\n",
        "dataset = np.loadtxt(\"diabetes.csv\", delimiter=\",\")"
      ],
      "metadata": {
        "id": "DJEiSwCx55ps"
      },
      "execution_count": null,
      "outputs": []
    },
    {
      "cell_type": "code",
      "source": [
        "X= dataset[:,0:8]\n",
        "X1=X\n",
        "X"
      ],
      "metadata": {
        "id": "97uSi5qN6csL"
      },
      "execution_count": null,
      "outputs": []
    },
    {
      "cell_type": "code",
      "source": [
        "X.shape"
      ],
      "metadata": {
        "id": "K_pNDIM_6vEh"
      },
      "execution_count": null,
      "outputs": []
    },
    {
      "cell_type": "code",
      "source": [
        "y= dataset[:,8]\n",
        "y1=y"
      ],
      "metadata": {
        "id": "EVs7hifw67WN"
      },
      "execution_count": null,
      "outputs": []
    },
    {
      "cell_type": "code",
      "source": [
        "y.shape"
      ],
      "metadata": {
        "id": "rsemKNhI7CFG"
      },
      "execution_count": null,
      "outputs": []
    },
    {
      "cell_type": "code",
      "source": [
        "y[0:10]"
      ],
      "metadata": {
        "id": "asQqyBYaGHiQ"
      },
      "execution_count": null,
      "outputs": []
    },
    {
      "cell_type": "code",
      "source": [
        "import sklearn\n",
        "from sklearn.model_selection import train_test_split\n",
        "from sklearn.preprocessing import MinMaxScaler"
      ],
      "metadata": {
        "id": "TqXKvBQimhB6"
      },
      "execution_count": null,
      "outputs": []
    },
    {
      "cell_type": "code",
      "source": [
        "scaler = MinMaxScaler()\n",
        "scaler.fit(X)\n",
        "X = scaler.transform(X)\n",
        "X[2, 0:8]"
      ],
      "metadata": {
        "id": "OaffTFq8recu"
      },
      "execution_count": null,
      "outputs": []
    },
    {
      "cell_type": "markdown",
      "source": [
        "Step 3 - Creating the Training and Test Datasets"
      ],
      "metadata": {
        "id": "u2fpxnHCeVXI"
      }
    },
    {
      "cell_type": "code",
      "source": [
        "X_train, X_test, y_train, y_test = train_test_split(X, y, test_size=0.30)"
      ],
      "metadata": {
        "id": "t8buX3Y_m1tJ"
      },
      "execution_count": null,
      "outputs": []
    },
    {
      "cell_type": "code",
      "source": [
        "print(\"Train  data input  : \", X_train.shape )\n",
        "print(\"Train  data output : \", y_train.shape )\n",
        "print(\"Test   data input  : \",  X_test.shape )\n",
        "print(\"Test   data output : \", y_test.shape )\n"
      ],
      "metadata": {
        "id": "cNklm8kILEzW"
      },
      "execution_count": null,
      "outputs": []
    },
    {
      "cell_type": "markdown",
      "source": [
        "Step 4 - building neural network "
      ],
      "metadata": {
        "id": "QuLfMxsyecLU"
      }
    },
    {
      "cell_type": "markdown",
      "source": [],
      "metadata": {
        "id": "bv34UlKDeS78"
      }
    },
    {
      "cell_type": "code",
      "source": [
        "model = Sequential()\n",
        "model.add(Dense(12, input_dim=8, activation='relu'))\n",
        "model.add(Dense(8, activation='relu'))\n",
        "model.add(Dense(1, activation='sigmoid'))\n",
        "model.compile(loss='binary_crossentropy' , optimizer='adam', metrics=['accuracy'])"
      ],
      "metadata": {
        "id": "ZJp_TyGe7K0-"
      },
      "execution_count": null,
      "outputs": []
    },
    {
      "cell_type": "code",
      "source": [
        "model.summary()"
      ],
      "metadata": {
        "id": "sYq5u1s78F6m"
      },
      "execution_count": null,
      "outputs": []
    },
    {
      "cell_type": "markdown",
      "source": [
        "Step 5 - model training "
      ],
      "metadata": {
        "id": "OOMfRPCwelF8"
      }
    },
    {
      "cell_type": "code",
      "source": [
        "model.fit(X_train, y_train, epochs=250, batch_size=10)"
      ],
      "metadata": {
        "id": "xXQLnTMA8RuU"
      },
      "execution_count": null,
      "outputs": []
    },
    {
      "cell_type": "code",
      "source": [
        "model.to_json()"
      ],
      "metadata": {
        "id": "DKUlupY38m_0"
      },
      "execution_count": null,
      "outputs": []
    },
    {
      "cell_type": "code",
      "source": [
        "trained_weights = model.get_weights()[0]\n",
        "trained_weights"
      ],
      "metadata": {
        "id": "9kVtjK-VFCbL"
      },
      "execution_count": null,
      "outputs": []
    },
    {
      "cell_type": "code",
      "source": [
        "trained_weights.shape"
      ],
      "metadata": {
        "id": "Hgin80_eIOvh"
      },
      "execution_count": null,
      "outputs": []
    },
    {
      "cell_type": "code",
      "source": [
        "import pandas as pd"
      ],
      "metadata": {
        "id": "X6g8zajHHcdI"
      },
      "execution_count": null,
      "outputs": []
    },
    {
      "cell_type": "code",
      "source": [
        "metrics = pd.DataFrame(model.history.history)"
      ],
      "metadata": {
        "id": "xtrpkUx5HfiD"
      },
      "execution_count": null,
      "outputs": []
    },
    {
      "cell_type": "code",
      "source": [
        "metrics.head()"
      ],
      "metadata": {
        "id": "W_c33938Hr_h"
      },
      "execution_count": null,
      "outputs": []
    },
    {
      "cell_type": "code",
      "source": [
        "metrics['loss'].plot()"
      ],
      "metadata": {
        "id": "JyeGkXiAH7-R"
      },
      "execution_count": null,
      "outputs": []
    },
    {
      "cell_type": "code",
      "source": [
        "metrics['accuracy'].plot()"
      ],
      "metadata": {
        "id": "JYr5Syf8IJRn"
      },
      "execution_count": null,
      "outputs": []
    },
    {
      "cell_type": "markdown",
      "source": [
        "Step 5 - model verification\n"
      ],
      "metadata": {
        "id": "BBeI8W0FeyUB"
      }
    },
    {
      "cell_type": "code",
      "source": [
        "scores_trained_model = model.evaluate(X_train, y_train,verbose =0)"
      ],
      "metadata": {
        "id": "0DxRCzynoEsZ"
      },
      "execution_count": null,
      "outputs": []
    },
    {
      "cell_type": "code",
      "source": [
        "scores_test_model = model.evaluate(X_test, y_test,verbose =0)"
      ],
      "metadata": {
        "id": "I0cIKNm8ock5"
      },
      "execution_count": null,
      "outputs": []
    },
    {
      "cell_type": "code",
      "source": [
        "print(\"Trained Model:\", \"accuracy:\", scores_trained_model[1], \"error training: \", 1- scores_trained_model[1])\n",
        "print(\"Tested Model :\", \"accuracy:\", scores_test_model[1],    \"error test    : \", 1- scores_test_model[1])"
      ],
      "metadata": {
        "id": "rolRxeifoqV_"
      },
      "execution_count": null,
      "outputs": []
    },
    {
      "cell_type": "code",
      "source": [
        "X_train1, X_test1, y_train1, y_test1 = train_test_split(X1, y1, test_size=0.30)"
      ],
      "metadata": {
        "id": "6Qt0pZ6nt7bt"
      },
      "execution_count": null,
      "outputs": []
    },
    {
      "cell_type": "code",
      "source": [
        "y_test1"
      ],
      "metadata": {
        "id": "Clor0g1ZzZ_a"
      },
      "execution_count": null,
      "outputs": []
    },
    {
      "cell_type": "code",
      "source": [
        "#0, 12\n",
        "y_test1[0]"
      ],
      "metadata": {
        "id": "6ThGft-tuaMm"
      },
      "execution_count": null,
      "outputs": []
    },
    {
      "cell_type": "code",
      "source": [
        "# [Pregnancies, Glucose, BloodPressure, SkinThickness(Triceps skin fold thickness (mm), Insulin, BMI, Diabetes pedigree function, Age)]\n",
        "X_test1[0]"
      ],
      "metadata": {
        "id": "GfA4UwBr7RKs"
      },
      "execution_count": null,
      "outputs": []
    },
    {
      "cell_type": "code",
      "source": [
        "scaler = MinMaxScaler()\n",
        "scaler.fit(X_test1)\n",
        "X_test11 = scaler.transform(X_test1)"
      ],
      "metadata": {
        "id": "5EkKEiO5uoNe"
      },
      "execution_count": null,
      "outputs": []
    },
    {
      "cell_type": "code",
      "source": [
        "X_test11[0]"
      ],
      "metadata": {
        "id": "0Vpmlv8Hu_F8"
      },
      "execution_count": null,
      "outputs": []
    },
    {
      "cell_type": "code",
      "source": [
        "print(\"Generate a prediction\")\n",
        "prediction = model.predict(X_test11[0:1])\n",
        "print(\"Prediction result:\", prediction)"
      ],
      "metadata": {
        "id": "bRltOzrrvGau"
      },
      "execution_count": null,
      "outputs": []
    }
  ]
}