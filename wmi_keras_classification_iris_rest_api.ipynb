{
  "nbformat": 4,
  "nbformat_minor": 0,
  "metadata": {
    "colab": {
      "provenance": [],
      "authorship_tag": "ABX9TyP/OXk6XQlUPBFtCTdnx1gY",
      "include_colab_link": true
    },
    "kernelspec": {
      "name": "python3",
      "display_name": "Python 3"
    },
    "language_info": {
      "name": "python"
    }
  },
  "cells": [
    {
      "cell_type": "markdown",
      "metadata": {
        "id": "view-in-github",
        "colab_type": "text"
      },
      "source": [
        "<a href=\"https://colab.research.google.com/github/adalbertii/phyton-binder/blob/main/wmi_keras_classification_iris_rest_api.ipynb\" target=\"_parent\"><img src=\"https://colab.research.google.com/assets/colab-badge.svg\" alt=\"Open In Colab\"/></a>"
      ]
    },
    {
      "cell_type": "markdown",
      "source": [
        "Educational Friday: 21.04.2023\n",
        "\n",
        "Buiding REST service with FLASK framework\n",
        "\n",
        "Using the Keras library nad trained IRIS model\n",
        "https://dashboard.ngrok.com/get-started/your-authtoken\n"
      ],
      "metadata": {
        "id": "rGrixZy0p7n5"
      }
    },
    {
      "cell_type": "code",
      "source": [
        "!pip install flask-ngrok\n",
        "!pip install flask==0.12.2  # Newer versions of flask don't work in Colab\n",
        "                            # See https://github.com/plotly/dash/issues/257\n",
        "!pip install pyngrok"
      ],
      "metadata": {
        "id": "4hanMd-8tLo9"
      },
      "execution_count": null,
      "outputs": []
    },
    {
      "cell_type": "code",
      "execution_count": 7,
      "metadata": {
        "id": "AYIO4liMp1XJ"
      },
      "outputs": [],
      "source": [
        "from flask import Flask, request, jsonify\n",
        "import numpy as np\n",
        "from tensorflow.keras.models import load_model\n",
        "import joblib\n",
        "from flask_ngrok import run_with_ngrok\n"
      ]
    },
    {
      "cell_type": "code",
      "source": [
        "!ngrok authtoken 2MB9vxmBMmzJQeV3dDnzUyCYLzz_6MsUqva9rW3DdaZcLhoc5\n",
        "\n",
        "def return_prediction(model, scaler, sample_json):\n",
        "    s_len = sample_json[\"sepal_length\"]\n",
        "    s_wid = sample_json[\"sepal_width\"]\n",
        "    p_len = sample_json[\"petal_length\"]\n",
        "    p_wid = sample_json[\"petal_width\"]\n",
        "\n",
        "    flower = [[s_len, s_wid, p_len, p_wid ]]\n",
        "\n",
        "    classes = np.array(('Iris-setosa', 'Iris-versicolor', 'Iris-virginica'))\n",
        "\n",
        "\n",
        "    flower =  scaler.transform(flower)\n",
        "    predict_x = model.predict(flower, verbose='0')\n",
        "    classes_ind = np.argmax(predict_x,axis=1) \n",
        "\n",
        "\n",
        "    return classes[classes_ind][0]\n"
      ],
      "metadata": {
        "colab": {
          "base_uri": "https://localhost:8080/"
        },
        "id": "EUoX2YTKqqgu",
        "outputId": "dcb44942-6a99-4939-f575-ad8af0fa1be4"
      },
      "execution_count": 8,
      "outputs": [
        {
          "output_type": "stream",
          "name": "stdout",
          "text": [
            "Authtoken saved to configuration file: /root/.ngrok2/ngrok.yml\n"
          ]
        }
      ]
    },
    {
      "cell_type": "code",
      "source": [
        "app=Flask(__name__)\n",
        "run_with_ngrok(app)  # Start ngrok when app is run\n",
        "\n",
        "@app.route(\"/\")\n",
        "def index():\n",
        "    return '<h1> Flask APP is running </h1>'\n",
        "\n",
        "flower_model = load_model('final_iris_model.h5')\n",
        "flower_scaler = joblib.load('iris_scaler.pkl')\n",
        "\n",
        "@app.route('/api/Flower', methods=['POST'])\n",
        "def flower_prediction():\n",
        "    content = request.json\n",
        "    results = return_prediction(flower_model, flower_scaler, content)\n",
        "    return jsonify(results)\n",
        "\n",
        "if __name__== '__main__':\n",
        "    app.run()"
      ],
      "metadata": {
        "colab": {
          "base_uri": "https://localhost:8080/"
        },
        "id": "lTBLXfcoq_ha",
        "outputId": "ed5e1464-f4ac-4cbc-f743-0a8e116ef5d3"
      },
      "execution_count": 11,
      "outputs": [
        {
          "output_type": "stream",
          "name": "stdout",
          "text": [
            " * Serving Flask app \"__main__\" (lazy loading)\n",
            " * Environment: production\n",
            "\u001b[31m   WARNING: This is a development server. Do not use it in a production deployment.\u001b[0m\n",
            "\u001b[2m   Use a production WSGI server instead.\u001b[0m\n",
            " * Debug mode: off\n"
          ]
        },
        {
          "output_type": "stream",
          "name": "stderr",
          "text": [
            "INFO:werkzeug: * Running on http://127.0.0.1:5000/ (Press CTRL+C to quit)\n"
          ]
        },
        {
          "output_type": "stream",
          "name": "stdout",
          "text": [
            " * Running on http://4e57-34-82-237-219.ngrok.io\n",
            " * Traffic stats available on http://127.0.0.1:4040\n"
          ]
        },
        {
          "output_type": "stream",
          "name": "stderr",
          "text": [
            "ERROR:__main__:Exception on /api/Flower [POST]\n",
            "Traceback (most recent call last):\n",
            "  File \"/usr/local/lib/python3.8/dist-packages/flask/app.py\", line 2447, in wsgi_app\n",
            "  File \"/usr/local/lib/python3.8/dist-packages/flask/app.py\", line 1952, in full_dispatch_request\n",
            "    def wsgi_app(self, environ, start_response):\n",
            "  File \"/usr/local/lib/python3.8/dist-packages/flask/app.py\", line 1821, in handle_user_exception\n",
            "    funcs = self.url_value_preprocessors.get(None, ())\n",
            "  File \"/usr/local/lib/python3.8/dist-packages/flask/_compat.py\", line 39, in reraise\n",
            "    string_types = (str, unicode)\n",
            "  File \"/usr/local/lib/python3.8/dist-packages/flask/app.py\", line 1950, in full_dispatch_request\n",
            "    builder.close()\n",
            "  File \"/usr/local/lib/python3.8/dist-packages/flask/app.py\", line 1936, in dispatch_request\n",
            "    :param environ: a WSGI environment\n",
            "  File \"<ipython-input-11-54b1bb20410e>\", line 14, in flower_prediction\n",
            "    results = return_prediction(flower_model, flower_scaler, content)\n",
            "  File \"<ipython-input-8-20b0bffebef7>\", line 6, in return_prediction\n",
            "    p_len = sample_json[\"petal_length\"]\n",
            "KeyError: 'petal_length'\n",
            "INFO:werkzeug:127.0.0.1 - - [28/Feb/2023 16:00:21] \"\u001b[35m\u001b[1mPOST /api/Flower HTTP/1.1\u001b[0m\" 500 -\n",
            "/usr/local/lib/python3.8/dist-packages/sklearn/base.py:450: UserWarning: X does not have valid feature names, but MinMaxScaler was fitted with feature names\n",
            "  warnings.warn(\n",
            "INFO:werkzeug:127.0.0.1 - - [28/Feb/2023 16:01:53] \"\u001b[37mPOST /api/Flower HTTP/1.1\u001b[0m\" 200 -\n"
          ]
        }
      ]
    }
  ]
}