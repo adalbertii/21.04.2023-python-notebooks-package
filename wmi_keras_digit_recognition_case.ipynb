{
  "nbformat": 4,
  "nbformat_minor": 0,
  "metadata": {
    "colab": {
      "provenance": [],
      "authorship_tag": "ABX9TyOqSw7iK0AjsvVMrXvqjmNy",
      "include_colab_link": true
    },
    "kernelspec": {
      "name": "python3",
      "display_name": "Python 3"
    },
    "language_info": {
      "name": "python"
    }
  },
  "cells": [
    {
      "cell_type": "markdown",
      "metadata": {
        "id": "view-in-github",
        "colab_type": "text"
      },
      "source": [
        "<a href=\"https://colab.research.google.com/github/adalbertii/phyton-binder/blob/main/wmi_keras_digit_recognition_case.ipynb\" target=\"_parent\"><img src=\"https://colab.research.google.com/assets/colab-badge.svg\" alt=\"Open In Colab\"/></a>"
      ]
    },
    {
      "cell_type": "markdown",
      "source": [
        "\n",
        "\n",
        "**Educational Friday: 21.04.2023**\n",
        "# Construction of neural networks - digit recognition model case\n",
        "\n",
        "\n",
        "---\n",
        "Developed by Wojciech Michalski\n",
        "\n",
        "\n",
        "---\n",
        "\n",
        "\n",
        "\n",
        "Using the Keras library\n",
        "\n",
        "\n",
        "\n",
        "\n",
        "---\n",
        "https://github.com/adalbertii/phyton-binder/blob/main/CEDR%20v.%202.0.pdf\n",
        "\n",
        " "
      ],
      "metadata": {
        "id": "BJ21aHx3AVgD"
      }
    },
    {
      "cell_type": "markdown",
      "source": [
        "Step 1 - Loading the Required Libraries and Modules"
      ],
      "metadata": {
        "id": "-O7VB4H2BEEr"
      }
    },
    {
      "cell_type": "code",
      "execution_count": null,
      "metadata": {
        "id": "_IoOK4ZhAENT"
      },
      "outputs": [],
      "source": [
        "import numpy as np\n",
        "import matplotlib\n",
        "matplotlib.use('agg')\n",
        "import matplotlib.pyplot as plt\n",
        "\n",
        "# keras imports for the dataset and building  neural network\n",
        "from keras.datasets import mnist\n",
        "from keras.models import Sequential, load_model\n",
        "from keras.layers.core import Dense, Dropout, Activation\n",
        "from keras.utils import np_utils"
      ]
    },
    {
      "cell_type": "markdown",
      "source": [
        "Step 2 - loading MNIST dataset and split into train and test sets."
      ],
      "metadata": {
        "id": "Sddp-oxNCqxT"
      }
    },
    {
      "cell_type": "code",
      "source": [
        "(X_train, y_train), (X_test, y_test) = mnist.load_data()"
      ],
      "metadata": {
        "id": "q0-CkkH2DECM"
      },
      "execution_count": null,
      "outputs": []
    },
    {
      "cell_type": "markdown",
      "source": [
        "Step 3 - checking dataset"
      ],
      "metadata": {
        "id": "v6wZXKXlDMXn"
      }
    },
    {
      "cell_type": "code",
      "source": [
        "X_train.shape, y_train.shape, X_test.shape,y_test.shape"
      ],
      "metadata": {
        "id": "rs7auT1iDKgZ"
      },
      "execution_count": null,
      "outputs": []
    },
    {
      "cell_type": "code",
      "source": [
        "X_train[0]"
      ],
      "metadata": {
        "id": "CcD8lY6vEq1B"
      },
      "execution_count": null,
      "outputs": []
    },
    {
      "cell_type": "code",
      "source": [
        "y_train[0]"
      ],
      "metadata": {
        "id": "jxdfFOXMFDzR"
      },
      "execution_count": null,
      "outputs": []
    },
    {
      "cell_type": "code",
      "source": [
        "fig = plt.figure()\n",
        "for i in range(9):\n",
        "  plt.subplot(3,3,i+1)\n",
        "  plt.tight_layout()\n",
        "  plt.imshow(X_train[i], cmap='gray', interpolation='none')\n",
        "  plt.title(\"Digit: {}\".format(y_train[i]))\n",
        "  plt.xticks([])\n",
        "  plt.yticks([])\n",
        "fig"
      ],
      "metadata": {
        "id": "PNBdGsuEFYWa"
      },
      "execution_count": null,
      "outputs": []
    },
    {
      "cell_type": "code",
      "source": [
        "# checkin value distribution \n",
        "fig = plt.figure()\n",
        "plt.subplot(2,1,1)\n",
        "plt.imshow(X_train[4], cmap='gray', interpolation='none')\n",
        "plt.title(\"Digit: {}\".format(y_train[4]))\n",
        "plt.xticks([])\n",
        "plt.yticks([])\n",
        "plt.subplot(2,1,2)\n",
        "plt.hist(X_train[0].reshape(784))\n",
        "plt.title(\"Pixel Value Distribution\")\n",
        "fig"
      ],
      "metadata": {
        "id": "7B-7629SH6-a"
      },
      "execution_count": null,
      "outputs": []
    },
    {
      "cell_type": "code",
      "source": [
        "#checkng distribution in whole array of y_train dataset\n",
        "print(np.unique(y_train, return_counts=True))"
      ],
      "metadata": {
        "id": "g0-wlFPvJ7E_"
      },
      "execution_count": null,
      "outputs": []
    },
    {
      "cell_type": "markdown",
      "source": [
        "Step 4 - reshaping and noramlization"
      ],
      "metadata": {
        "id": "ytcVJSojI2OR"
      }
    },
    {
      "cell_type": "code",
      "source": [
        "# the shape before we reshape and normalize\n",
        "print(\"X_train shape\", X_train.shape)\n",
        "print(\"y_train shape\", y_train.shape)\n",
        "print(\"X_test shape\", X_test.shape)\n",
        "print(\"y_test shape\", y_test.shape)\n",
        "\n",
        "# building the input vector from the 28x28 pixels\n",
        "X_train = X_train.reshape(60000, 784)\n",
        "X_test = X_test.reshape(10000, 784)\n",
        "X_train = X_train.astype('float32')\n",
        "X_test = X_test.astype('float32')\n",
        "\n",
        "# normalizing the data to help with the training\n",
        "X_train /= 255\n",
        "X_test /= 255\n",
        "\n",
        "# print the final input shape ready for training\n",
        "print(\"Train matrix shape\", X_train.shape)\n",
        "print(\"Test matrix shape\", X_test.shape)"
      ],
      "metadata": {
        "colab": {
          "base_uri": "https://localhost:8080/"
        },
        "id": "cCs5PxxSJCNV",
        "outputId": "06e03e6b-57c4-4d69-ab4d-7e20929f448d"
      },
      "execution_count": null,
      "outputs": [
        {
          "output_type": "stream",
          "name": "stdout",
          "text": [
            "X_train shape (60000, 28, 28)\n",
            "y_train shape (60000,)\n",
            "X_test shape (10000, 28, 28)\n",
            "y_test shape (10000,)\n",
            "Train matrix shape (60000, 784)\n",
            "Test matrix shape (10000, 784)\n"
          ]
        }
      ]
    },
    {
      "cell_type": "code",
      "source": [
        "#encode our categories - digits from 0 to 9 - using one-hot encoding. The result is a vector with a length equal to the number of categories.\n",
        "# one-hot encoding using keras' numpy-related utilities\n",
        "n_classes = 10\n",
        "print(\"Shape before one-hot encoding: \", y_train.shape)\n",
        "Y_train = np_utils.to_categorical(y_train, n_classes)\n",
        "Y_test = np_utils.to_categorical(y_test, n_classes)\n",
        "print(\"Shape after one-hot encoding: \", Y_train.shape)\n"
      ],
      "metadata": {
        "id": "lIOraAheKaWy"
      },
      "execution_count": null,
      "outputs": []
    },
    {
      "cell_type": "markdown",
      "source": [
        "Step 5 - building neural network"
      ],
      "metadata": {
        "id": "lnjeLAzJKqx9"
      }
    },
    {
      "cell_type": "code",
      "source": [
        "# building a linear stack of layers with the sequential model\n",
        "model = Sequential()\n",
        "model.add(Dense(512, input_shape=(784,)))\n",
        "model.add(Activation('relu'))                            \n",
        "model.add(Dropout(0.2))\n",
        "\n",
        "model.add(Dense(512))\n",
        "model.add(Activation('relu'))\n",
        "model.add(Dropout(0.2))\n",
        "\n",
        "model.add(Dense(10))\n",
        "model.add(Activation('softmax'))"
      ],
      "metadata": {
        "id": "qlMOcP_JK9c7"
      },
      "execution_count": null,
      "outputs": []
    },
    {
      "cell_type": "code",
      "source": [
        "model.summary()"
      ],
      "metadata": {
        "id": "9DSuS8TfMtyK"
      },
      "execution_count": null,
      "outputs": []
    },
    {
      "cell_type": "markdown",
      "source": [
        "Step 6 - compiling and training model"
      ],
      "metadata": {
        "id": "uHhnjYNYLUAE"
      }
    },
    {
      "cell_type": "code",
      "source": [
        "# compiling the sequential model\n",
        "model.compile(loss='categorical_crossentropy', metrics=['accuracy'], optimizer='adam')"
      ],
      "metadata": {
        "id": "p28d-PYXLacL"
      },
      "execution_count": null,
      "outputs": []
    },
    {
      "cell_type": "code",
      "source": [
        "# training the model and saving metrics in history\n",
        "history = model.fit(X_train, Y_train,\n",
        "          batch_size=128, epochs=20,\n",
        "          verbose=2,\n",
        "          validation_data=(X_test, Y_test))"
      ],
      "metadata": {
        "id": "Otj8iHU8LnJ5"
      },
      "execution_count": null,
      "outputs": []
    },
    {
      "cell_type": "code",
      "source": [
        "# plotting the metrics\n",
        "fig = plt.figure()\n",
        "plt.subplot(2,1,1)\n",
        "plt.plot(history.history['accuracy'])\n",
        "plt.plot(history.history['val_accuracy'])\n",
        "plt.title('model accuracy')\n",
        "plt.ylabel('accuracy')\n",
        "plt.xlabel('epoch')\n",
        "plt.legend(['train', 'test'], loc='lower right')\n",
        "\n",
        "plt.subplot(2,1,2)\n",
        "plt.plot(history.history['loss'])\n",
        "plt.plot(history.history['val_loss'])\n",
        "plt.title('model loss')\n",
        "plt.ylabel('loss')\n",
        "plt.xlabel('epoch')\n",
        "plt.legend(['train', 'test'], loc='upper right')\n",
        "\n",
        "plt.tight_layout()\n",
        "\n",
        "fig"
      ],
      "metadata": {
        "id": "sNHy8sE9NGct"
      },
      "execution_count": null,
      "outputs": []
    },
    {
      "cell_type": "markdown",
      "source": [
        "Step 7 -checking the prediction result"
      ],
      "metadata": {
        "id": "O7jH6BXkNpq8"
      }
    },
    {
      "cell_type": "code",
      "source": [
        "predicted_classes = model.predict(X_test)"
      ],
      "metadata": {
        "id": "bNBntSaDOixr"
      },
      "execution_count": null,
      "outputs": []
    },
    {
      "cell_type": "code",
      "source": [
        "plt.rcParams['figure.figsize'] = (7,14)\n",
        "\n",
        "figure = plt.figure()\n",
        "plt.imshow(X_test[300].reshape(28,28), cmap='gray', interpolation='none')\n",
        "plt.title(\n",
        "      \"Predicted {}, Truth: {}\".format(predicted_classes[300], \n",
        "                                       y_test[300]))\n",
        "\n",
        "figure\n"
      ],
      "metadata": {
        "id": "s5XweN75TQLu"
      },
      "execution_count": null,
      "outputs": []
    }
  ]
}