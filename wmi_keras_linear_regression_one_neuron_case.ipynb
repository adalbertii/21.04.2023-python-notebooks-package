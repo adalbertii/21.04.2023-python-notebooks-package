{
  "nbformat": 4,
  "nbformat_minor": 0,
  "metadata": {
    "colab": {
      "provenance": [],
      "include_colab_link": true
    },
    "kernelspec": {
      "name": "python3",
      "display_name": "Python 3"
    },
    "language_info": {
      "name": "python"
    }
  },
  "cells": [
    {
      "cell_type": "markdown",
      "metadata": {
        "id": "view-in-github",
        "colab_type": "text"
      },
      "source": [
        "<a href=\"https://colab.research.google.com/github/adalbertii/phyton-binder/blob/main/wmi_keras_linear_regression_one_neuron_case.ipynb\" target=\"_parent\"><img src=\"https://colab.research.google.com/assets/colab-badge.svg\" alt=\"Open In Colab\"/></a>"
      ]
    },
    {
      "cell_type": "markdown",
      "source": [
        "Educational Friday: 21.04.2023\n",
        "\n",
        "\n",
        "---\n",
        "Developed by Wojciech Michalski\n",
        "\n",
        "\n",
        "---\n",
        "\n",
        "\n",
        "\n",
        "Construction of neural networks - regresion model case\n",
        "\n",
        "Using the Keras library\n",
        "\n"
      ],
      "metadata": {
        "id": "SRikR7c45C2S"
      }
    },
    {
      "cell_type": "code",
      "execution_count": null,
      "metadata": {
        "id": "AIzoNewV2pkC"
      },
      "outputs": [],
      "source": [
        "import pandas as pd\n",
        "import tensorflow as tf\n",
        "from matplotlib import pyplot as plt"
      ]
    },
    {
      "cell_type": "code",
      "source": [
        "my_feature = ([1.0, 2.0,  3.0,  4.0,  5.0,  6.0,  7.0,  8.0,  9.0, 10.0, 11.0, 12.0])\n",
        "my_label   = ([5.0, 8.8,  9.6, 14.2, 18.8, 19.5, 21.4, 26.8, 28.9, 32.0, 33.8, 38.2])\n",
        " # Label the axes.\n",
        " \n",
        "plt.xlabel(\"my_feature\")\n",
        "plt.ylabel(\"my_label\")\n",
        "# Plot the feature values vs. label values.\n",
        "plt.scatter(my_feature, my_label)\n"
      ],
      "metadata": {
        "colab": {
          "base_uri": "https://localhost:8080/",
          "height": 299
        },
        "id": "_abOqU213YC9",
        "outputId": "98a07533-9fce-43f9-cc4d-fcd1366fa648"
      },
      "execution_count": null,
      "outputs": [
        {
          "output_type": "execute_result",
          "data": {
            "text/plain": [
              "<matplotlib.collections.PathCollection at 0x7fce87ca8370>"
            ]
          },
          "metadata": {},
          "execution_count": 5
        },
        {
          "output_type": "display_data",
          "data": {
            "text/plain": [
              "<Figure size 432x288 with 1 Axes>"
            ],
            "image/png": "[encoded data removed]"
          },
          "metadata": {
            "needs_background": "light"
          }
        }
      ]
    },
    {
      "cell_type": "code",
      "source": [
        "learning_rate=0.01\n",
        "epochs=10\n",
        "my_batch_size=12"
      ],
      "metadata": {
        "id": "H3-jk1Me4oaj"
      },
      "execution_count": null,
      "outputs": []
    },
    {
      "cell_type": "code",
      "source": [
        "\"\"\"Create and compile a simple linear regression model.\"\"\"\n",
        "# Most simple tf.keras models are sequential. \n",
        "# A sequential model contains one or more layers.\n",
        "model = tf.keras.models.Sequential()\n",
        "\n",
        "# Describe the topography of the model.\n",
        "# The topography of a simple linear regression model\n",
        "# is a single node in a single layer. \n",
        "model.add(tf.keras.layers.Dense(units=1, \n",
        "                                  input_shape=(1,)))\n",
        "\n",
        "# Compile the model topography into code that \n",
        "# TensorFlow can efficiently execute. Configure \n",
        "# training to minimize the model's mean squared error. \n",
        "model.compile(optimizer=tf.keras.optimizers.experimental.RMSprop(learning_rate=learning_rate),\n",
        "                loss=\"mean_squared_error\",\n",
        "                metrics=[tf.keras.metrics.RootMeanSquaredError()])\n",
        "  "
      ],
      "metadata": {
        "id": "o1Oi19yS42Bo"
      },
      "execution_count": null,
      "outputs": []
    },
    {
      "cell_type": "code",
      "source": [
        "# Feed the feature values and the label values to the \n",
        "# model. The model will train for the specified number \n",
        "# of epochs, gradually learning how the feature values\n",
        "# relate to the label values. \n",
        "history = model.fit(x=my_feature,\n",
        "                      y=my_label,\n",
        "                      batch_size=my_batch_size,\n",
        "                      epochs=epochs)\n",
        "model.summary()\n",
        "\n",
        "# Gather the trained model's weight and bias.\n",
        "trained_weight = model.get_weights()[0]\n",
        "trained_bias = model.get_weights()[1]\n",
        "\n",
        "# The list of epochs is stored separately from the \n",
        "# rest of history.\n",
        "epochs = history.epoch\n",
        "  \n",
        "# Gather the history (a snapshot) of each epoch.\n",
        "hist = pd.DataFrame(history.history)\n",
        "\n",
        "# Specifically gather the model's root mean \n",
        "# squared error at each epoch. \n",
        "rmse = hist[\"root_mean_squared_error\"]\n"
      ],
      "metadata": {
        "colab": {
          "base_uri": "https://localhost:8080/"
        },
        "id": "_9XAFQ4x5-pE",
        "outputId": "8f1b0110-c1c3-44c5-94cc-a1934f240816"
      },
      "execution_count": null,
      "outputs": [
        {
          "output_type": "stream",
          "name": "stdout",
          "text": [
            "Epoch 1/10\n",
            "1/1 [==============================] - 1s 551ms/step - loss: 914.8962 - root_mean_squared_error: 30.2473\n",
            "Epoch 2/10\n",
            "1/1 [==============================] - 0s 14ms/step - loss: 899.1818 - root_mean_squared_error: 29.9864\n",
            "Epoch 3/10\n",
            "1/1 [==============================] - 0s 12ms/step - loss: 887.9131 - root_mean_squared_error: 29.7979\n",
            "Epoch 4/10\n",
            "1/1 [==============================] - 0s 15ms/step - loss: 878.5556 - root_mean_squared_error: 29.6404\n",
            "Epoch 5/10\n",
            "1/1 [==============================] - 0s 13ms/step - loss: 870.3058 - root_mean_squared_error: 29.5009\n",
            "Epoch 6/10\n",
            "1/1 [==============================] - 0s 14ms/step - loss: 862.7916 - root_mean_squared_error: 29.3733\n",
            "Epoch 7/10\n",
            "1/1 [==============================] - 0s 14ms/step - loss: 855.8054 - root_mean_squared_error: 29.2542\n",
            "Epoch 8/10\n",
            "1/1 [==============================] - 0s 15ms/step - loss: 849.2184 - root_mean_squared_error: 29.1414\n",
            "Epoch 9/10\n",
            "1/1 [==============================] - 0s 14ms/step - loss: 842.9444 - root_mean_squared_error: 29.0335\n",
            "Epoch 10/10\n",
            "1/1 [==============================] - 0s 18ms/step - loss: 836.9227 - root_mean_squared_error: 28.9296\n"
          ]
        }
      ]
    },
    {
      "cell_type": "code",
      "source": [
        "# Label the axes.\n",
        "plt.xlabel(\"feature\")\n",
        "plt.ylabel(\"label\")\n",
        "\n",
        "  # Plot the feature values vs. label values.\n",
        "plt.scatter(my_feature, my_label)\n",
        "\n",
        "  # Create a red line representing the model. The red line starts\n",
        "  # at coordinates (x0, y0) and ends at coordinates (x1, y1).\n",
        "x0 = 0\n",
        "y0 = trained_bias\n",
        "x1 = my_feature[-1]\n",
        "y1 = trained_bias + (trained_weight * x1)\n",
        "plt.plot([x0, x1], [y0, y1], c='r')\n",
        "\n",
        "  # Render the scatter plot and the red line.\n",
        "plt.show()\n",
        "\n",
        "\"\"\"Plot the loss curve, which shows loss vs. epoch.\"\"\"\n",
        "\n",
        "plt.figure()\n",
        "plt.xlabel(\"Epoch\")\n",
        "plt.ylabel(\"Root Mean Squared Error\")\n",
        "\n",
        "plt.plot(epochs, rmse, label=\"Loss\")\n",
        "plt.legend()\n",
        "plt.ylim([rmse.min()*0.97, rmse.max()])\n",
        "plt.show()"
      ],
      "metadata": {
        "colab": {
          "base_uri": "https://localhost:8080/",
          "height": 543
        },
        "id": "Ak-IiloH7p07",
        "outputId": "253e4481-3fd7-4101-cbf4-574da8b63634"
      },
      "execution_count": null,
      "outputs": [
        {
          "output_type": "display_data",
          "data": {
            "text/plain": [
              "<Figure size 432x288 with 1 Axes>"
            ],
            "image/png": "[encoded data removed]"
          },
          "metadata": {
            "needs_background": "light"
          }
        },
        {
          "output_type": "display_data",
          "data": {
            "text/plain": [
              "<Figure size 432x288 with 1 Axes>"
            ],
            "image/png": "[encoded data removed]"
          },
          "metadata": {
            "needs_background": "light"
          }
        }
      ]
    },
    {
      "cell_type": "code",
      "source": [
        "learning_rate=0.01\n",
        "epochs=10\n",
        "my_batch_size=12"
      ],
      "metadata": {
        "id": "IZ-6oYVM9uzf"
      },
      "execution_count": null,
      "outputs": []
    },
    {
      "cell_type": "code",
      "source": [
        "learning_rate=0.01\n",
        "epochs= 50   # Replace ? with an integer.\n",
        "my_batch_size=12\n"
      ],
      "metadata": {
        "id": "fb6CM1ei9wCg"
      },
      "execution_count": null,
      "outputs": []
    },
    {
      "cell_type": "code",
      "source": [
        "learning_rate=0.01\n",
        "epochs=450\n",
        "my_batch_size=12"
      ],
      "metadata": {
        "id": "WrMS87p395kK"
      },
      "execution_count": null,
      "outputs": []
    },
    {
      "cell_type": "code",
      "source": [
        "learning_rate=0.05\n",
        "epochs=25\n",
        "my_batch_size=1 # Wow, a batch size of 1 works!\n"
      ],
      "metadata": {
        "id": "y2HSFzxM-B6U"
      },
      "execution_count": null,
      "outputs": []
    },
    {
      "cell_type": "markdown",
      "source": [
        "A few rules:\n",
        "\n",
        "Training loss should steadily decrease, steeply at first, and then more slowly until the slope of the curve reaches or approaches zero.\n",
        "\n",
        "If the training loss does not converge, train for more epochs.\n",
        "\n",
        "If the training loss decreases too slowly, increase the learning rate. Note that setting the learning rate too high may also prevent training loss from converging.\n",
        "\n",
        "If the training loss varies wildly (that is, the training loss jumps around), decrease the learning rate.\n",
        "\n",
        "Lowering the learning rate while increasing the number of epochs or the batch size is often a good combination.\n",
        "\n",
        "Setting the batch size to a very small batch number can also cause instability. First, try large batch size values. Then, decrease the batch size until you see degradation.\n",
        "\n",
        "For real-world datasets consisting of a very large number of examples, the entire dataset might not fit into memory. In such cases, you'll need to reduce the batch size to enable a batch to fit into memory.\n"
      ],
      "metadata": {
        "id": "J9tN7mBX_MfT"
      }
    }
  ]
}