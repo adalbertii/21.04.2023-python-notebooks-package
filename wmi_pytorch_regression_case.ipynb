{
  "nbformat": 4,
  "nbformat_minor": 0,
  "metadata": {
    "colab": {
      "provenance": [],
      "authorship_tag": "ABX9TyOAI/fEQA9+iZ7In2gnXcA2",
      "include_colab_link": true
    },
    "kernelspec": {
      "name": "python3",
      "display_name": "Python 3"
    },
    "language_info": {
      "name": "python"
    }
  },
  "cells": [
    {
      "cell_type": "markdown",
      "metadata": {
        "id": "view-in-github",
        "colab_type": "text"
      },
      "source": [
        "<a href=\"https://colab.research.google.com/github/adalbertii/phyton-binder/blob/main/wmi_pytorch_regression_case.ipynb\" target=\"_parent\"><img src=\"https://colab.research.google.com/assets/colab-badge.svg\" alt=\"Open In Colab\"/></a>"
      ]
    },
    {
      "cell_type": "markdown",
      "source": [
        "**Educational Friday: 21.04.2023**\n",
        "\n",
        "\n",
        "---\n",
        "Developed by Wojciech Michalski\n",
        "\n",
        "\n",
        "---\n",
        "\n",
        "\n",
        "\n",
        "\n",
        "# Building neural network  - regresion model case\n",
        "\n",
        "\n",
        "\n",
        "\n",
        "With use: PyTorch library\n",
        "\n"
      ],
      "metadata": {
        "id": "YE6Cea00wZu4"
      }
    },
    {
      "cell_type": "markdown",
      "source": [
        "Pobranie danych uczących i danych walidujących"
      ],
      "metadata": {
        "id": "UWgToMwpzUON"
      }
    },
    {
      "cell_type": "code",
      "source": [
        "from sklearn.datasets import fetch_california_housing\n",
        "data = fetch_california_housing()\n",
        "print(data.feature_names)\n",
        "X, y = data.data, data.target"
      ],
      "metadata": {
        "id": "0rExWGYvzgGS"
      },
      "execution_count": null,
      "outputs": []
    },
    {
      "cell_type": "markdown",
      "source": [
        "Bodowa modelu sieci neuronowej"
      ],
      "metadata": {
        "id": "YtCZuykMzwBn"
      }
    },
    {
      "cell_type": "code",
      "source": [
        "import torch.nn as nn\n",
        "# Define the model\n",
        "model = nn.Sequential(\n",
        "    nn.Linear(8, 24),\n",
        "    nn.ReLU(),\n",
        "    nn.Linear(24, 12),\n",
        "    nn.ReLU(),\n",
        "    nn.Linear(12, 6),\n",
        "    nn.ReLU(),\n",
        "    nn.Linear(6, 1)\n",
        ")"
      ],
      "metadata": {
        "id": "ogDKy9Pzz5Ki"
      },
      "execution_count": null,
      "outputs": []
    },
    {
      "cell_type": "markdown",
      "source": [
        "Definicja funkcji błędu uczenia oraz algorytmu optymalizacji sieci"
      ],
      "metadata": {
        "id": "rM-67Vd40-4m"
      }
    },
    {
      "cell_type": "code",
      "source": [
        "import torch.nn as nn\n",
        "import torch.optim as optim \n",
        "# loss function and optimizer\n",
        "loss_fn = nn.MSELoss()  # mean square error\n",
        "optimizer = optim.Adam(model.parameters(), lr=0.0001)"
      ],
      "metadata": {
        "id": "xv3jings1Jv6"
      },
      "execution_count": null,
      "outputs": []
    },
    {
      "cell_type": "markdown",
      "source": [
        "Proces uczenia sieci"
      ],
      "metadata": {
        "id": "yhNlKDsl1cNU"
      }
    },
    {
      "cell_type": "code",
      "source": [
        "import copy\n",
        "import numpy as np\n",
        "import torch\n",
        "import tqdm\n",
        "from sklearn.model_selection import train_test_split\n",
        " \n",
        "# train-test split of the dataset\n",
        "X_train, X_test, y_train, y_test = train_test_split(X, y, train_size=0.7, shuffle=True)\n",
        "X_train = torch.tensor(X_train, dtype=torch.float32)\n",
        "y_train = torch.tensor(y_train, dtype=torch.float32).reshape(-1, 1)\n",
        "X_test = torch.tensor(X_test, dtype=torch.float32)\n",
        "y_test = torch.tensor(y_test, dtype=torch.float32).reshape(-1, 1)\n",
        " \n",
        "# training parameters\n",
        "n_epochs = 20   # number of epochs to run\n",
        "batch_size = 10  # size of each batch\n",
        "batch_start = torch.arange(0, len(X_train), batch_size)\n",
        " \n",
        "# Hold the best model\n",
        "best_mse = np.inf   # init to infinity\n",
        "best_weights = None\n",
        "history = []\n",
        " \n",
        "# training loop\n",
        "for epoch in range(n_epochs):\n",
        "    model.train()\n",
        "    with tqdm.tqdm(batch_start, unit=\"batch\", mininterval=0, disable=True) as bar:\n",
        "        bar.set_description(f\"Epoch {epoch}\")\n",
        "        for start in bar:\n",
        "            # take a batch\n",
        "            X_batch = X_train[start:start+batch_size]\n",
        "            y_batch = y_train[start:start+batch_size]\n",
        "            # forward pass\n",
        "            y_pred = model(X_batch)\n",
        "            loss = loss_fn(y_pred, y_batch)\n",
        "            # backward pass\n",
        "            optimizer.zero_grad()\n",
        "            loss.backward()\n",
        "            # update weights\n",
        "            optimizer.step()\n",
        "            # print progress\n",
        "            bar.set_postfix(mse=float(loss))\n",
        "    # evaluate accuracy at end of each epoch\n",
        "    model.eval()\n",
        "    y_pred = model(X_test)\n",
        "    mse = loss_fn(y_pred, y_test)\n",
        "    mse = float(mse)\n",
        "    history.append(mse)\n",
        "    if mse < best_mse:\n",
        "        best_mse = mse\n",
        "        best_weights = copy.deepcopy(model.state_dict())\n",
        " \n",
        "# restore model and return best accuracy\n",
        "model.load_state_dict(best_weights)"
      ],
      "metadata": {
        "colab": {
          "base_uri": "https://localhost:8080/"
        },
        "id": "32J2WKh31huv",
        "outputId": "00d09a50-a233-4391-9c85-9a0a899e9614"
      },
      "execution_count": null,
      "outputs": [
        {
          "output_type": "execute_result",
          "data": {
            "text/plain": [
              "<All keys matched successfully>"
            ]
          },
          "metadata": {},
          "execution_count": 4
        }
      ]
    },
    {
      "cell_type": "markdown",
      "source": [
        "Charakterystyka wytrenowanego modelu sieci"
      ],
      "metadata": {
        "id": "wT5Pa6hk1_A5"
      }
    },
    {
      "cell_type": "code",
      "source": [
        "import matplotlib.pyplot as plt\n",
        "print(\"MSE: %.2f\" % best_mse)\n",
        "print(\"RMSE: %.2f\" % np.sqrt(best_mse))\n",
        "plt.plot(history)\n",
        "plt.show()"
      ],
      "metadata": {
        "id": "vtTFxQYJ2Io6"
      },
      "execution_count": null,
      "outputs": []
    },
    {
      "cell_type": "markdown",
      "source": [
        "Model sieci neuronowej z ustandaryzowanymi danymi wejściowymi \n",
        "Kompletny kod programu"
      ],
      "metadata": {
        "id": "otsdPPtS2x1g"
      }
    },
    {
      "cell_type": "code",
      "source": [
        "import copy\n",
        " \n",
        "import matplotlib.pyplot as plt\n",
        "import numpy as np\n",
        "import pandas as pd\n",
        "import torch\n",
        "import torch.nn as nn\n",
        "import torch.optim as optim\n",
        "import tqdm\n",
        "from sklearn.model_selection import train_test_split\n",
        "from sklearn.datasets import fetch_california_housing\n",
        "from sklearn.preprocessing import StandardScaler\n",
        " \n",
        "# Read data\n",
        "data = fetch_california_housing()\n",
        "X, y = data.data, data.target\n",
        " \n",
        "# train-test split for model evaluation\n",
        "X_train_raw, X_test_raw, y_train, y_test = train_test_split(X, y, train_size=0.7, shuffle=True)\n",
        " \n",
        "# Standardizing data\n",
        "scaler = StandardScaler()\n",
        "scaler.fit(X_train_raw)\n",
        "X_train = scaler.transform(X_train_raw)\n",
        "X_test = scaler.transform(X_test_raw)\n",
        " \n",
        "# Convert to 2D PyTorch tensors\n",
        "X_train = torch.tensor(X_train, dtype=torch.float32)\n",
        "y_train = torch.tensor(y_train, dtype=torch.float32).reshape(-1, 1)\n",
        "X_test = torch.tensor(X_test, dtype=torch.float32)\n",
        "y_test = torch.tensor(y_test, dtype=torch.float32).reshape(-1, 1)\n",
        " \n",
        "# Define the model\n",
        "model = nn.Sequential(\n",
        "    nn.Linear(8, 24),\n",
        "    nn.ReLU(),\n",
        "    nn.Linear(24, 12),\n",
        "    nn.ReLU(),\n",
        "    nn.Linear(12, 6),\n",
        "    nn.ReLU(),\n",
        "    nn.Linear(6, 1)\n",
        ")\n",
        " \n",
        "# loss function and optimizer\n",
        "loss_fn = nn.MSELoss()  # mean square error\n",
        "optimizer = optim.Adam(model.parameters(), lr=0.0001)\n",
        " \n",
        "n_epochs = 30   # number of epochs to run\n",
        "batch_size = 10  # size of each batch\n",
        "batch_start = torch.arange(0, len(X_train), batch_size)\n",
        " \n",
        "# Hold the best model\n",
        "best_mse = np.inf   # init to infinity\n",
        "best_weights = None\n",
        "history = []\n",
        " \n",
        "for epoch in range(n_epochs):\n",
        "    model.train()\n",
        "    with tqdm.tqdm(batch_start, unit=\"batch\", mininterval=0, disable=True) as bar:\n",
        "        bar.set_description(f\"Epoch {epoch}\")\n",
        "        for start in bar:\n",
        "            # take a batch\n",
        "            X_batch = X_train[start:start+batch_size]\n",
        "            y_batch = y_train[start:start+batch_size]\n",
        "            # forward pass\n",
        "            y_pred = model(X_batch)\n",
        "            loss = loss_fn(y_pred, y_batch)\n",
        "            # backward pass\n",
        "            optimizer.zero_grad()\n",
        "            loss.backward()\n",
        "            # update weights\n",
        "            optimizer.step()\n",
        "            # print progress\n",
        "            bar.set_postfix(mse=float(loss))\n",
        "    # evaluate accuracy at end of each epoch\n",
        "    model.eval()\n",
        "    y_pred = model(X_test)\n",
        "    mse = loss_fn(y_pred, y_test)\n",
        "    mse = float(mse)\n",
        "    history.append(mse)\n",
        "    if mse < best_mse:\n",
        "        best_mse = mse\n",
        "        best_weights = copy.deepcopy(model.state_dict())\n",
        " \n",
        "# restore model and return best accuracy\n",
        "model.load_state_dict(best_weights)\n",
        "print(\"MSE: %.2f\" % best_mse)\n",
        "print(\"RMSE: %.2f\" % np.sqrt(best_mse))\n",
        "plt.plot(history)\n",
        "plt.show()\n",
        " \n",
        "model.eval()\n",
        "with torch.no_grad():\n",
        "    # Test out inference with 5 samples\n",
        "    for i in range(5):\n",
        "        X_sample = X_test_raw[i: i+1]\n",
        "        X_sample = scaler.transform(X_sample)\n",
        "        X_sample = torch.tensor(X_sample, dtype=torch.float32)\n",
        "        y_pred = model(X_sample)\n",
        "        print(f\"{X_test_raw[i]} -> {y_pred[0].numpy()} (expected {y_test[i].numpy()})\")\n"
      ],
      "metadata": {
        "colab": {
          "base_uri": "https://localhost:8080/",
          "height": 479
        },
        "id": "RTQbESbU28Q3",
        "outputId": "5cd91ccf-0219-48bf-e921-4b528f6a0a98"
      },
      "execution_count": null,
      "outputs": [
        {
          "output_type": "stream",
          "name": "stdout",
          "text": [
            "MSE: 0.34\n",
            "RMSE: 0.58\n"
          ]
        },
        {
          "output_type": "display_data",
          "data": {
            "text/plain": [
              "<Figure size 432x288 with 1 Axes>"
            ],
            "image/png": "[encoded data removed]"
          },
          "metadata": {
            "needs_background": "light"
          }
        },
        {
          "output_type": "stream",
          "name": "stdout",
          "text": [
            "[ 4.23910000e+00  5.00000000e+00  5.12380952e+00  9.33333333e-01\n",
            "  8.73300000e+03  8.31714286e+01  3.44700000e+01 -1.18590000e+02] -> [2.880638] (expected [1.546])\n",
            "[ 6.43190000e+00  3.40000000e+01  6.51404494e+00  9.38202247e-01\n",
            "  9.41000000e+02  2.64325843e+00  3.39500000e+01 -1.18110000e+02] -> [3.4352903] (expected [4.523])\n",
            "[   3.0694       44.            5.38585209    1.0192926   806.\n",
            "    2.59163987   37.95       -122.34      ] -> [1.7593583] (expected [1.353])\n",
            "[ 2.16410000e+00  3.10000000e+01  3.80904523e+00  1.00502513e+00\n",
            "  1.82000000e+03  4.57286432e+00  3.39300000e+01 -1.18180000e+02] -> [1.326714] (expected [1.229])\n",
            "[ 2.54300000e+00  1.50000000e+01  4.87709497e+00  1.11545624e+00\n",
            "  1.51300000e+03  2.81750466e+00  3.28100000e+01 -1.16950000e+02] -> [1.4771143] (expected [1.])\n"
          ]
        }
      ]
    },
    {
      "cell_type": "code",
      "source": [
        "model.eval()\n",
        "with torch.no_grad():\n",
        "    # Test out inference with 5 samples\n",
        "    for i in range(50):\n",
        "        X_sample = X_test_raw[i: i+1]\n",
        "        X_sample = scaler.transform(X_sample)\n",
        "        X_sample = torch.tensor(X_sample, dtype=torch.float32)\n",
        "        y_pred = model(X_sample)\n",
        "        print(f\"{y_pred[0].numpy()} (expected {y_test[i].numpy()})\")"
      ],
      "metadata": {
        "colab": {
          "base_uri": "https://localhost:8080/"
        },
        "id": "m5EE_fNP7isN",
        "outputId": "364bae74-b20c-4bb9-a7fe-18c6ad583a55"
      },
      "execution_count": null,
      "outputs": [
        {
          "output_type": "stream",
          "name": "stdout",
          "text": [
            "[2.880638] (expected [1.546])\n",
            "[3.4352903] (expected [4.523])\n",
            "[1.7593583] (expected [1.353])\n",
            "[1.326714] (expected [1.229])\n",
            "[1.4771143] (expected [1.])\n",
            "[1.9272652] (expected [0.283])\n",
            "[3.3198137] (expected [3.714])\n",
            "[3.2100155] (expected [2.469])\n",
            "[1.3627675] (expected [1.648])\n",
            "[1.2806917] (expected [1.431])\n",
            "[3.3593497] (expected [3.375])\n",
            "[1.4109303] (expected [0.875])\n",
            "[1.3414384] (expected [0.983])\n",
            "[3.2121227] (expected [3.447])\n",
            "[0.5160064] (expected [0.858])\n",
            "[1.0021582] (expected [0.771])\n",
            "[2.2006648] (expected [2.006])\n",
            "[2.0573711] (expected [2.374])\n",
            "[2.1425865] (expected [1.367])\n",
            "[2.4825768] (expected [2.337])\n",
            "[2.770143] (expected [2.05])\n",
            "[2.179395] (expected [2.578])\n",
            "[1.0771416] (expected [0.845])\n",
            "[4.8801436] (expected [5.00001])\n",
            "[1.2840844] (expected [0.886])\n",
            "[1.6709043] (expected [2.375])\n",
            "[2.1480105] (expected [2.07])\n",
            "[0.54968244] (expected [0.592])\n",
            "[2.7021666] (expected [4.309])\n",
            "[2.0235705] (expected [1.991])\n",
            "[0.8266989] (expected [0.475])\n",
            "[0.7597371] (expected [0.455])\n",
            "[1.7532083] (expected [1.606])\n",
            "[1.3412119] (expected [0.905])\n",
            "[5.074858] (expected [5.00001])\n",
            "[1.6682686] (expected [2.174])\n",
            "[2.116971] (expected [2.75])\n",
            "[2.5508676] (expected [4.333])\n",
            "[3.2764912] (expected [2.56])\n",
            "[1.479387] (expected [1.712])\n",
            "[0.7074565] (expected [0.715])\n",
            "[1.8128674] (expected [1.17])\n",
            "[1.3340629] (expected [1.505])\n",
            "[2.9664938] (expected [3.054])\n",
            "[2.418698] (expected [2.402])\n",
            "[1.3915555] (expected [1.526])\n",
            "[0.5745392] (expected [0.806])\n",
            "[1.7252532] (expected [1.855])\n",
            "[1.2279369] (expected [0.45])\n",
            "[2.80416] (expected [2.616])\n"
          ]
        }
      ]
    }
  ]
}